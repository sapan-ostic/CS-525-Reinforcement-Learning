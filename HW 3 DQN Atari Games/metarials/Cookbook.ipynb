{
 "cells": [
  {
   "cell_type": "code",
   "execution_count": 1,
   "metadata": {},
   "outputs": [],
   "source": [
    "import gym    # Gym OpenAI\n",
    "import math   # for std math function\n",
    "import random # genereate random numbers\n",
    "import numpy as np\n",
    "import matplotlib\n",
    "import matplotlib.pyplot as plt\n",
    "from collections import namedtuple\n",
    "from itertools import count\n",
    "from PIL import Image\n",
    "\n",
    "import torch\n",
    "import torch.nn as nn\n",
    "import torch.optim as optim\n",
    "import torch.nn.functional as F\n",
    "import torchvision.transforms as T"
   ]
  },
  {
   "cell_type": "markdown",
   "metadata": {},
   "source": [
    "## Collections\n",
    "### namedTuple\n"
   ]
  },
  {
   "cell_type": "code",
   "execution_count": 6,
   "metadata": {},
   "outputs": [
    {
     "name": "stdout",
     "output_type": "stream",
     "text": [
      "Transition(state=10, action=0, nextstate=14, reward=-1)\n",
      "10\n"
     ]
    }
   ],
   "source": [
    "Transition = namedtuple('Transition', ['state','action','nextstate','reward'])\n",
    "T = Transition(10,0,14,-1)\n",
    "print(T)\n",
    "print(T[0])"
   ]
  },
  {
   "cell_type": "code",
   "execution_count": 33,
   "metadata": {},
   "outputs": [
    {
     "name": "stdout",
     "output_type": "stream",
     "text": [
      "Got first input\n",
      "(1, 2, 3, 4)\n",
      "1\n"
     ]
    }
   ],
   "source": [
    "class ClassName(object):\n",
    "    \n",
    "    def __init__(self, input1):\n",
    "        property1 = input1\n",
    "        property2 = 1\n",
    "        property3 = ''\n",
    "        print('Got first input')\n",
    "        \n",
    "    def method1(self, *input2):\n",
    "        print(input2)\n",
    "        self.property2 = input2[0]\n",
    "\n",
    "C = ClassName('RoboticsGraduate2019')\n",
    "a = 1\n",
    "C.method1(1,2,3,4)\n",
    "print(C.property2)\n",
    "    "
   ]
  }
 ],
 "metadata": {
  "kernelspec": {
   "display_name": "Python 3",
   "language": "python",
   "name": "python3"
  },
  "language_info": {
   "codemirror_mode": {
    "name": "ipython",
    "version": 3
   },
   "file_extension": ".py",
   "mimetype": "text/x-python",
   "name": "python",
   "nbconvert_exporter": "python",
   "pygments_lexer": "ipython3",
   "version": "3.6.8"
  }
 },
 "nbformat": 4,
 "nbformat_minor": 2
}
