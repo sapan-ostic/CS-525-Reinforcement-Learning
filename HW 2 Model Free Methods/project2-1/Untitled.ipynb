{
 "cells": [
  {
   "cell_type": "code",
   "execution_count": 2,
   "metadata": {},
   "outputs": [],
   "source": [
    "import numpy as np\n",
    "from collections import defaultdict\n",
    "import random"
   ]
  },
  {
   "cell_type": "code",
   "execution_count": 8,
   "metadata": {},
   "outputs": [
    {
     "name": "stdout",
     "output_type": "stream",
     "text": [
      "[[(12, 3, 1), 1], [(14, 5, 2), 2]]\n"
     ]
    }
   ],
   "source": [
    "state1= (12, 3 , 1)\n",
    "action1 = 1\n",
    "\n",
    "state2= (14, 5 , 2)\n",
    "action2 = 2\n",
    "\n",
    "stateAction1 = [state1, action1]\n",
    "stateAction2 = [state2, action2]\n",
    "\n",
    "E = [];\n",
    "E.append(stateAction1)\n",
    "E.append(stateAction2)\n",
    "\n",
    "print(E)"
   ]
  },
  {
   "cell_type": "code",
   "execution_count": 15,
   "metadata": {},
   "outputs": [
    {
     "name": "stdout",
     "output_type": "stream",
     "text": [
      "(14, 5, 2)\n",
      "(12, 3, 1)\n"
     ]
    }
   ],
   "source": [
    "for [state,action] in reversed(E):\n",
    "    print(state)"
   ]
  },
  {
   "cell_type": "code",
   "execution_count": 25,
   "metadata": {},
   "outputs": [
    {
     "name": "stdout",
     "output_type": "stream",
     "text": [
      "1\n",
      "<enumerate object at 0x7f513f15f438>\n"
     ]
    },
    {
     "data": {
      "text/plain": [
       "(0, [(12, 3, 1), 1])"
      ]
     },
     "execution_count": 25,
     "metadata": {},
     "output_type": "execute_result"
    }
   ],
   "source": [
    "first_occurence_idx = next(i for i,x in enumerate(E) if x[0] == state2)\n",
    "print(first_occurence_idx)\n",
    "print(enumerate(E))\n",
    "\n",
    "next(enumerate(E), state)"
   ]
  }
 ],
 "metadata": {
  "kernelspec": {
   "display_name": "Python 3",
   "language": "python",
   "name": "python3"
  },
  "language_info": {
   "codemirror_mode": {
    "name": "ipython",
    "version": 3
   },
   "file_extension": ".py",
   "mimetype": "text/x-python",
   "name": "python",
   "nbconvert_exporter": "python",
   "pygments_lexer": "ipython3",
   "version": "3.6.8"
  }
 },
 "nbformat": 4,
 "nbformat_minor": 2
}
